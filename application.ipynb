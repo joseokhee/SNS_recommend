{
 "cells": [
  {
   "cell_type": "code",
   "execution_count": 40,
   "metadata": {},
   "outputs": [],
   "source": [
    "import pandas as pd\n",
    "import numpy as np\n",
    "import torch\n",
    "import torch.nn as nn\n",
    "import torch.nn.functional as F"
   ]
  },
  {
   "cell_type": "code",
   "execution_count": 41,
   "metadata": {},
   "outputs": [],
   "source": [
    "like_raw=pd.read_csv('likes.csv')\n",
    "\n",
    "account=like_raw['account'].drop_duplicates().reset_index(drop=True)\n",
    "like_n=pd.read_csv('like_p.csv')\n",
    "like_n.index=account\n",
    "serch_account='5edf9f8e031bf169c41c41a4'\n",
    "\n",
    "\n",
    "predict=pd.read_csv('predict.csv',index_col='account')\n",
    "\n",
    "\n",
    "ch=predict.loc[serch_account]\n",
    "tmp=like_n.loc[serch_account]==1\n",
    "\n",
    "for i in range(len(ch)):\n",
    "    if tmp[i]==True:\n",
    "        ch[i]=0\n",
    "        \n",
    "result=ch.sort_values(ascending = False)\n"
   ]
  },
  {
   "cell_type": "code",
   "execution_count": 42,
   "metadata": {},
   "outputs": [
    {
     "data": {
      "text/plain": [
       "Index(['5efb04d6b6cfc8253f738add', '5f83f48a206c046fb5c55a7c',\n",
       "       '5ef6e82205bd616f22c257ea', '5fe2fb72b24b451b7d9d9619',\n",
       "       '5efaf99ebdb68f253e9fd374', '5f7c3b7cecb2e6837a2d0bd1',\n",
       "       '5efaf1bbb6cfc8253f737871', '5f1d5c6a279a0fbf414fa5cb',\n",
       "       '5f803b2d65d8d750c5d19a37', '5efae8a7b6cfc8253f737258',\n",
       "       ...\n",
       "       '5f40b0fa359fe20539a619f3', '5f40cabfc2aaebc346b66740',\n",
       "       '5f40d3a32444eeabd0fa5238', '5f421f28c8981b4e387eb220',\n",
       "       '5f422e1ce466828cdb1f132e', '5f428525c480e2f6a87c80c0',\n",
       "       '5f43a236e123cd73532d4277', '5f47569d1d5a1d49977e986f',\n",
       "       '5f49082cbb9acc1c32b60bda', '5f0c207664e2ef528e350cee'],\n",
       "      dtype='object', length=553)"
      ]
     },
     "execution_count": 42,
     "metadata": {},
     "output_type": "execute_result"
    }
   ],
   "source": [
    "result.index"
   ]
  },
  {
   "cell_type": "code",
   "execution_count": null,
   "metadata": {},
   "outputs": [],
   "source": []
  }
 ],
 "metadata": {
  "kernelspec": {
   "display_name": "Python 3",
   "language": "python",
   "name": "python3"
  },
  "language_info": {
   "codemirror_mode": {
    "name": "ipython",
    "version": 3
   },
   "file_extension": ".py",
   "mimetype": "text/x-python",
   "name": "python",
   "nbconvert_exporter": "python",
   "pygments_lexer": "ipython3",
   "version": "3.7.4"
  }
 },
 "nbformat": 4,
 "nbformat_minor": 2
}
