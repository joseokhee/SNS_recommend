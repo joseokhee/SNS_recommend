{
 "cells": [
  {
   "cell_type": "code",
   "execution_count": 1,
   "metadata": {},
   "outputs": [],
   "source": [
    "import torch\n",
    "import numpy as np\n"
   ]
  },
  {
   "cell_type": "code",
   "execution_count": 11,
   "metadata": {},
   "outputs": [
    {
     "name": "stdout",
     "output_type": "stream",
     "text": [
      "torch.Size([4, 4])\n",
      "tensor([[0.3795, 0.8652, 0.3925, 0.7169],\n",
      "        [0.6028, 0.9451, 0.3542, 0.5191],\n",
      "        [0.1746, 0.6632, 0.9258, 0.7647],\n",
      "        [0.3665, 0.7254, 0.5587, 0.0506]])\n",
      "1.8.0.dev20210121+cu110\n"
     ]
    }
   ],
   "source": [
    "a=torch.rand(4,4)\n",
    "\n",
    "print(a.shape)\n",
    "print(a)\n",
    "print(torch.__version__)"
   ]
  },
  {
   "cell_type": "code",
   "execution_count": 12,
   "metadata": {},
   "outputs": [
    {
     "name": "stdout",
     "output_type": "stream",
     "text": [
      "tensor([[0.1441, 0.7486, 0.1541, 0.5139],\n",
      "        [0.3634, 0.8932, 0.1255, 0.2695],\n",
      "        [0.0305, 0.4399, 0.8570, 0.5848],\n",
      "        [0.1343, 0.5262, 0.3122, 0.0026]])\n"
     ]
    }
   ],
   "source": [
    "print(torch.square(a))"
   ]
  },
  {
   "cell_type": "code",
   "execution_count": 15,
   "metadata": {},
   "outputs": [
    {
     "name": "stdout",
     "output_type": "stream",
     "text": [
      "tensor([[0.3795, 0.8652, 0.3925, 0.7169],\n",
      "        [0.6028, 0.9451, 0.3542, 0.5191],\n",
      "        [0.1746, 0.6632, 0.9258, 0.7647],\n",
      "        [0.3665, 0.7254, 0.5587, 0.0506],\n",
      "        [0.1441, 0.7486, 0.1541, 0.5139],\n",
      "        [0.3634, 0.8932, 0.1255, 0.2695],\n",
      "        [0.0305, 0.4399, 0.8570, 0.5848],\n",
      "        [0.1343, 0.5262, 0.3122, 0.0026]])\n"
     ]
    }
   ],
   "source": [
    "\n",
    "\n",
    "print(torch.cat([a,b],dim=0))"
   ]
  },
  {
   "cell_type": "code",
   "execution_count": 15,
   "metadata": {},
   "outputs": [],
   "source": [
    "a=torch.tensor([[0,0,0,4,4,0,0,0,0,0,0],\n",
    "           [0,0,3,0,0,0,3,0,0,0,0],\n",
    "           [0,0,0,1,2,0,5,0,0,0,0],\n",
    "           [0,5,0,1,0,0,0,0,0,0,0],\n",
    "           [0,1,0,3,0,0,0,2,0,1,0],\n",
    "           [0,1,0,0,4,0,0,0,0,1,0],\n",
    "           [0,0,2,0,0,0,0,4,0,0,0],\n",
    "           [1,0,0,2,1,0,0,3,4,0,1],\n",
    "           [0,2,0,5,4,0,0,0,5,0,0],\n",
    "           [3,3,0,2,1,0,3,0,2,0,1]])"
   ]
  },
  {
   "cell_type": "code",
   "execution_count": 18,
   "metadata": {},
   "outputs": [],
   "source": [
    "b=torch.tensor([2,1,3,4,4,5,3,2,1,4,3])"
   ]
  },
  {
   "cell_type": "code",
   "execution_count": 20,
   "metadata": {},
   "outputs": [
    {
     "ename": "TypeError",
     "evalue": "det() takes 1 positional argument but 2 were given",
     "output_type": "error",
     "traceback": [
      "\u001b[0;31m---------------------------------------------------------------------------\u001b[0m",
      "\u001b[0;31mTypeError\u001b[0m                                 Traceback (most recent call last)",
      "\u001b[0;32m<ipython-input-20-dacb09c5bc31>\u001b[0m in \u001b[0;36m<module>\u001b[0;34m\u001b[0m\n\u001b[0;32m----> 1\u001b[0;31m \u001b[0mtorch\u001b[0m\u001b[0;34m.\u001b[0m\u001b[0mdet\u001b[0m\u001b[0;34m(\u001b[0m\u001b[0ma\u001b[0m\u001b[0;34m,\u001b[0m\u001b[0mb\u001b[0m\u001b[0;34m)\u001b[0m\u001b[0;34m\u001b[0m\u001b[0;34m\u001b[0m\u001b[0m\n\u001b[0m",
      "\u001b[0;31mTypeError\u001b[0m: det() takes 1 positional argument but 2 were given"
     ]
    }
   ],
   "source": []
  },
  {
   "cell_type": "code",
   "execution_count": null,
   "metadata": {},
   "outputs": [],
   "source": []
  }
 ],
 "metadata": {
  "kernelspec": {
   "display_name": "Python 3",
   "language": "python",
   "name": "python3"
  },
  "language_info": {
   "codemirror_mode": {
    "name": "ipython",
    "version": 3
   },
   "file_extension": ".py",
   "mimetype": "text/x-python",
   "name": "python",
   "nbconvert_exporter": "python",
   "pygments_lexer": "ipython3",
   "version": "3.7.4"
  }
 },
 "nbformat": 4,
 "nbformat_minor": 2
}
